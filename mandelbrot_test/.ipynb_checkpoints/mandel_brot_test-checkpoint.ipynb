{
 "cells": [
  {
   "cell_type": "code",
   "execution_count": 2,
   "metadata": {},
   "outputs": [],
   "source": [
    "import  matplotlib.pyplot as plt\n",
    "import numpy as np\n"
   ]
  },
  {
   "cell_type": "code",
   "execution_count": 20,
   "metadata": {},
   "outputs": [
    {
     "data": {
      "text/plain": [
       "<matplotlib.image.AxesImage at 0x1147a2b38>"
      ]
     },
     "execution_count": 20,
     "metadata": {},
     "output_type": "execute_result"
    },
    {
     "data": {
      "image/png": "[encoded data removed]",
      "text/plain": [
       "<Figure size 432x288 with 1 Axes>"
      ]
     },
     "metadata": {
      "needs_background": "light"
     },
     "output_type": "display_data"
    }
   ],
   "source": [
    "\n",
    "n=1000\n",
    "a = np.zeros(shape=(n,n))\n",
    "#plt.img(a)\n",
    "\n",
    "offset = n/2\n",
    "norm = n/4\n",
    "\n",
    "for x in range(0,n):\n",
    "    for y in range(0,n):\n",
    "        xi = (x-offset)/norm\n",
    "        yi = (y-offset)/norm\n",
    "        a[x,y] = ((xi**2 + yi**2) < 1)\n",
    "\n",
    "plt.imshow(a)"
   ]
  },
  {
   "cell_type": "code",
   "execution_count": null,
   "metadata": {},
   "outputs": [],
   "source": [
    "def mandelbrot(xi,yi,maxiter=20):\n",
    "    for i in range(maxiter):\n",
    "        i_plus_x = i_n_x + xi\n",
    "        i_plus_y = i_n_y + yi\n",
    "        \n",
    "    return i_plus_x = \n",
    "    \n",
    "\n",
    "a = np.zeros(shape=(100,100))\n",
    "#plt.img(a)\n",
    "\n",
    "offset = 50\n",
    "norm = 25\n",
    "\n",
    "for x in range(0,100):\n",
    "    for y in range(0,100):\n",
    "        xi = (x-offset)/norm\n",
    "        yi = (y-offset)/norm\n",
    "        a[x,y] = ((xi**2 + yi**2) < 1)\n",
    "\n",
    "plt.imshow(a)\n",
    "\n",
    "\n"
   ]
  }
 ],
 "metadata": {
  "kernelspec": {
   "display_name": "Python 3",
   "language": "python",
   "name": "python3"
  },
  "language_info": {
   "codemirror_mode": {
    "name": "ipython",
    "version": 3
   },
   "file_extension": ".py",
   "mimetype": "text/x-python",
   "name": "python",
   "nbconvert_exporter": "python",
   "pygments_lexer": "ipython3",
   "version": "3.7.1"
  }
 },
 "nbformat": 4,
 "nbformat_minor": 2
}
