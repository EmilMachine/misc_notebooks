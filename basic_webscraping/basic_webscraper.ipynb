{
 "cells": [
  {
   "cell_type": "code",
   "execution_count": 1,
   "metadata": {},
   "outputs": [],
   "source": [
    "import requests\n",
    "from bs4 import BeautifulSoup\n",
    "import json\n"
   ]
  },
  {
   "cell_type": "code",
   "execution_count": 2,
   "metadata": {},
   "outputs": [],
   "source": [
    "def get_results(url):\n",
    "    page = requests.get(url)\n",
    "    soup  = BeautifulSoup(page.text, 'html.parser')\n",
    "    scripts = soup.find_all(\"script\")\n",
    "    \n",
    "    # Get results section\n",
    "    result = [s for s in scripts if \"__bs_salespricelist_result__\" in s.text][0]\n",
    "    \n",
    "    # Clean up + read json blob\n",
    "    start = \"\\r\\n    __bs_salespricelist_result__ = \"\n",
    "    end = \";\\r\\n    bs.page.initSalesPriceResult({});\\r\\n\"\n",
    "    r_clean = result.text.replace(start,\"\").replace(end,\"\")\n",
    "    data = json.loads(r_clean)\n",
    "    \n",
    "    # extract result \n",
    "    return data[\"searchResult\"][\"result\"][\"properties\"]\n",
    "    #return data"
   ]
  },
  {
   "cell_type": "code",
   "execution_count": 12,
   "metadata": {},
   "outputs": [],
   "source": [
    "homepages = [\n",
    "    \"https://www.boligsiden.dk/salgspris/tilsalg/fritidsbolig/1?sort=udbudt&postnummer=2750&vej=brandmosevej\"\n",
    "    ,\"https://www.boligsiden.dk/salgspris/tilsalg/fritidsbolig/1?sort=udbudt&postnummer=2750&vej=JUNGTOFTEN\"\n",
    "]\n",
    "\n",
    "bolig1=\"https://www.boligsiden.dk/salgspris/tilsalg/fritidsbolig/1?sort=udbudt&postnummer=2740&vej=NORDRE%20HANEVAD\"\n"
   ]
  },
  {
   "cell_type": "code",
   "execution_count": 13,
   "metadata": {},
   "outputs": [
    {
     "name": "stdout",
     "output_type": "stream",
     "text": [
      "[]\n",
      "[]\n"
     ]
    }
   ],
   "source": [
    "r1 = get_results(bolig1)\n",
    "r2 = get_results(homepages[0])\n",
    "r3 = get_results(homepages[1])\n",
    "print(r2)\n",
    "print(r3)"
   ]
  },
  {
   "cell_type": "code",
   "execution_count": null,
   "metadata": {},
   "outputs": [],
   "source": [
    "\n"
   ]
  },
  {
   "cell_type": "code",
   "execution_count": 5,
   "metadata": {},
   "outputs": [
    {
     "name": "stdout",
     "output_type": "stream",
     "text": [
      "[{'id': '1c3ece04e52b4b1f92f2c96c5c6c8900', 'itemTypeName': 'Fritidsbolig', 'itemType': 400, 'propertyLink': '~/salg/763067370', 'isFavorite': False, 'rating': {'ratings': {'conditionRating': None, 'kitchenRating': None, 'locationRating': None, 'bathRating': None}, 'averageRating': None, 'roundAverageRating': None}, 'priceDevelopment': '-15%', 'hasOpenHouse': False, 'nextOpenHouse': '01. jan. 00:00', 'nextOpenHouseSignup': False, 'imageLink300X200': 'https://pic.boligsiden.dk/property/300x200/1/1c3ece04e52b4b1f92f2c96c5c6c8900.jpg', 'energyMark': '', 'energyMarkLink': 'https://sparenergi.dk/forbruger/vaerktoejer/det-digitale-energimaerke', 'address': 'Nordre Hanevad 11', 'postal': '2740', 'city': 'Skovlunde', 'paymentCash': '725.000', 'downPayment': '40.000', 'paymentExpenses': '1.088', 'paymentGross': '3.300', 'paymentNet': '2.786', 'areaResidential': '50', 'numberOfRooms': '2', 'areaParcel': '400', 'salesPeriod': '417', 'redirectLink': 'https://www.boligsiden.dk/viderestilling/1c3ece04e52b4b1f92f2c96c5c6c8900', 'openHouseRedirectLink': None, 'agentsLogoLink': 'https://pic.boligsiden.dk/agent/9d1b5544e39244de98474f0236107a99.gif', 'financing': {'link': 'https://raadgivning.boligsiden.dk/boligberegner/?id=1c3ece04e52b4b1f92f2c96c5c6c8900', 'text': 'Beregn lån'}, 'areaPaymentCash': '13.679', 'areaWeighted': '53', 'uniqueNumber': 763067370, 'agentChainName': 'Min Bolighandel Brønshøj - Herlev - Skovlunde ', 'isArchive': False, 'dateRemoved': '', 'placeName': 'Hanevadsholm', 'canShowSalesPeriodTotal': True, 'salesPeriodTotal': '427', 'dateAnnounced': '12-02-2019', 'calculateLoanAgentChain': 'Nordea'}, {'id': '0b037ffc018b4634bd4d01e1bfdd253e', 'itemTypeName': 'Fritidsbolig', 'itemType': 400, 'propertyLink': '~/salg/749260573', 'isFavorite': False, 'rating': {'ratings': {'conditionRating': None, 'kitchenRating': None, 'locationRating': None, 'bathRating': None}, 'averageRating': None, 'roundAverageRating': None}, 'priceDevelopment': '0%', 'hasOpenHouse': False, 'nextOpenHouse': '01. jan. 00:00', 'nextOpenHouseSignup': False, 'imageLink300X200': 'https://pic.boligsiden.dk/property/300x200/1/0b037ffc018b4634bd4d01e1bfdd253e.jpg', 'energyMark': '', 'energyMarkLink': 'https://sparenergi.dk/forbruger/vaerktoejer/det-digitale-energimaerke', 'address': 'Nordre Hanevad 9D', 'postal': '2740', 'city': 'Skovlunde', 'paymentCash': '1.295.000', 'downPayment': '1.295.000', 'paymentExpenses': '1.149', 'paymentGross': '-', 'paymentNet': '-', 'areaResidential': '45', 'numberOfRooms': '3', 'areaParcel': '400', 'salesPeriod': '5', 'redirectLink': 'https://www.boligsiden.dk/viderestilling/0b037ffc018b4634bd4d01e1bfdd253e', 'openHouseRedirectLink': None, 'agentsLogoLink': 'https://pic.boligsiden.dk/agent/e41ed743f5a544ed9d42073e35132534.gif', 'financing': {'link': 'https://raadgivning.boligsiden.dk/boligberegner/?id=0b037ffc018b4634bd4d01e1bfdd253e', 'text': 'Beregn lån'}, 'areaPaymentCash': '28.778', 'areaWeighted': '-', 'uniqueNumber': 749260573, 'agentChainName': 'EDC', 'isArchive': False, 'dateRemoved': '', 'placeName': 'Hanevadsholm', 'canShowSalesPeriodTotal': True, 'salesPeriodTotal': '-', 'dateAnnounced': '30-03-2020', 'calculateLoanAgentChain': 'Danske Bank'}, {'id': '494dcb7e8f3a4ff99c219f1c792df365', 'itemTypeName': 'Fritidsbolig', 'itemType': 400, 'propertyLink': '~/salg/223796468', 'isFavorite': False, 'rating': {'ratings': {'conditionRating': None, 'kitchenRating': None, 'locationRating': None, 'bathRating': None}, 'averageRating': None, 'roundAverageRating': None}, 'priceDevelopment': '0%', 'hasOpenHouse': False, 'nextOpenHouse': '01. jan. 00:00', 'nextOpenHouseSignup': False, 'imageLink300X200': 'https://pic.boligsiden.dk/property/300x200/1/494dcb7e8f3a4ff99c219f1c792df365.jpg', 'energyMark': '', 'energyMarkLink': 'https://sparenergi.dk/forbruger/vaerktoejer/det-digitale-energimaerke', 'address': 'Nordre Hanevad 1D', 'postal': '2740', 'city': 'Skovlunde', 'paymentCash': '1.245.000', 'downPayment': '1.245.000', 'paymentExpenses': '1.119', 'paymentGross': '-', 'paymentNet': '-', 'areaResidential': '30', 'numberOfRooms': '4', 'areaParcel': '400', 'salesPeriod': '5', 'redirectLink': 'https://www.boligsiden.dk/viderestilling/494dcb7e8f3a4ff99c219f1c792df365', 'openHouseRedirectLink': None, 'agentsLogoLink': 'https://pic.boligsiden.dk/agent/e41ed743f5a544ed9d42073e35132534.gif', 'financing': {'link': 'https://raadgivning.boligsiden.dk/boligberegner/?id=494dcb7e8f3a4ff99c219f1c792df365', 'text': 'Beregn lån'}, 'areaPaymentCash': '41.500', 'areaWeighted': '-', 'uniqueNumber': 223796468, 'agentChainName': 'EDC', 'isArchive': False, 'dateRemoved': '', 'placeName': 'Hanevadsholm', 'canShowSalesPeriodTotal': True, 'salesPeriodTotal': '-', 'dateAnnounced': '30-03-2020', 'calculateLoanAgentChain': 'Danske Bank'}]\n"
     ]
    }
   ],
   "source": [
    "print(r1)"
   ]
  },
  {
   "cell_type": "markdown",
   "metadata": {},
   "source": [
    "# Appindix \n",
    "- Example webparsing from https://www.digitalocean.com/community/tutorials/how-to-scrape-web-pages-with-beautiful-soup-and-python-3"
   ]
  },
  {
   "cell_type": "code",
   "execution_count": 8,
   "metadata": {},
   "outputs": [
    {
     "ename": "AttributeError",
     "evalue": "'NoneType' object has no attribute 'find_all'",
     "output_type": "error",
     "traceback": [
      "\u001b[0;31m---------------------------------------------------------------------------\u001b[0m",
      "\u001b[0;31mAttributeError\u001b[0m                            Traceback (most recent call last)",
      "\u001b[0;32m<ipython-input-8-0fb7ba44cdda>\u001b[0m in \u001b[0;36m<module>\u001b[0;34m\u001b[0m\n\u001b[1;32m      7\u001b[0m \u001b[0martist_name_list\u001b[0m \u001b[0;34m=\u001b[0m \u001b[0msoup\u001b[0m\u001b[0;34m.\u001b[0m\u001b[0mfind\u001b[0m\u001b[0;34m(\u001b[0m\u001b[0mclass_\u001b[0m \u001b[0;34m=\u001b[0m \u001b[0;34m\"BodyText\"\u001b[0m\u001b[0;34m)\u001b[0m\u001b[0;34m\u001b[0m\u001b[0;34m\u001b[0m\u001b[0m\n\u001b[1;32m      8\u001b[0m \u001b[0;34m\u001b[0m\u001b[0m\n\u001b[0;32m----> 9\u001b[0;31m \u001b[0martist_name_list_items\u001b[0m \u001b[0;34m=\u001b[0m \u001b[0martist_name_list\u001b[0m\u001b[0;34m.\u001b[0m\u001b[0mfind_all\u001b[0m\u001b[0;34m(\u001b[0m\u001b[0;34m'a'\u001b[0m\u001b[0;34m)\u001b[0m\u001b[0;34m\u001b[0m\u001b[0;34m\u001b[0m\u001b[0m\n\u001b[0m\u001b[1;32m     10\u001b[0m \u001b[0;34m\u001b[0m\u001b[0m\n\u001b[1;32m     11\u001b[0m \u001b[0;32mfor\u001b[0m \u001b[0martist_name\u001b[0m \u001b[0;32min\u001b[0m \u001b[0martist_name_list_items\u001b[0m\u001b[0;34m:\u001b[0m\u001b[0;34m\u001b[0m\u001b[0;34m\u001b[0m\u001b[0m\n",
      "\u001b[0;31mAttributeError\u001b[0m: 'NoneType' object has no attribute 'find_all'"
     ]
    }
   ],
   "source": [
    "page = requests.get('https://web.archive.org/web/20121007172955/https://www.nga.gov/collection/anZ1.htm')\n",
    "\n",
    "soup = BeautifulSoup(page.text, 'html.parser')\n",
    "\n",
    "last_links = soup.find(class_='AlphaNav')\n",
    "last_links.decompose()\n",
    "artist_name_list = soup.find(class_ = \"BodyText\")\n",
    "\n",
    "artist_name_list_items = artist_name_list.find_all('a')\n",
    "\n",
    "for artist_name in artist_name_list_items:\n",
    "    names = artist_name.contents[0]\n",
    "    links = 'https://web.archive.org' + artist_name.get('href')\n",
    "\n",
    "    #print(names, links)"
   ]
  },
  {
   "cell_type": "code",
   "execution_count": null,
   "metadata": {},
   "outputs": [],
   "source": []
  },
  {
   "cell_type": "code",
   "execution_count": null,
   "metadata": {},
   "outputs": [],
   "source": []
  }
 ],
 "metadata": {
  "kernelspec": {
   "display_name": "Python 3",
   "language": "python",
   "name": "python3"
  },
  "language_info": {
   "codemirror_mode": {
    "name": "ipython",
    "version": 3
   },
   "file_extension": ".py",
   "mimetype": "text/x-python",
   "name": "python",
   "nbconvert_exporter": "python",
   "pygments_lexer": "ipython3",
   "version": "3.7.1"
  }
 },
 "nbformat": 4,
 "nbformat_minor": 2
}
