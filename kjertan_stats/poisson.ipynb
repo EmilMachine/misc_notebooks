{
 "cells": [
  {
   "cell_type": "markdown",
   "metadata": {},
   "source": [
    "# fit poisson"
   ]
  },
  {
   "cell_type": "code",
   "execution_count": 117,
   "metadata": {},
   "outputs": [
    {
     "name": "stdout",
     "output_type": "stream",
     "text": [
      "      fun: 4.125397694461333e-20\n",
      " hess_inv: array([[136.93681072]])\n",
      "      jac: array([2.9867867e-11])\n",
      "  message: 'Optimization terminated successfully.'\n",
      "     nfev: 60\n",
      "      nit: 3\n",
      "     njev: 20\n",
      "   status: 0\n",
      "  success: True\n",
      "        x: array([4.87558103])\n",
      "real prop: 0.939726\n",
      "my_prop: 0.939726\n"
     ]
    }
   ],
   "source": [
    "\n",
    "import numpy as np\n",
    "import math\n",
    "from scipy.optimize import minimize \n",
    "\n",
    "def my_poisson(k,l):\n",
    "    return (np.float(l)**k)*np.exp(-l)/math.factorial(k)\n",
    "\n",
    "\n",
    "def my_poisson_cdf(n,l):\n",
    "    a = range(0,n+1)\n",
    "    return sum([my_poisson(i,l) for i in a])\n",
    "\n",
    "\n",
    "def eq(l):\n",
    "    p = (365.-22.)/365.\n",
    "    tmp = my_poisson_cdf(8,l)\n",
    "    return (tmp-p)**2\n",
    " \n",
    "x0 = 1    \n",
    "result = minimize(eq,\n",
    "            x0,\n",
    "            tol=1E-10,\n",
    "            options={\n",
    "                'maxiter': 100,\n",
    "            })\n",
    "\n",
    "\n",
    "print(result)\n",
    "print(\"real prop: %f\" % ((365.-22.)/365.,))\n",
    "print(\"my_prop: %f\" % my_poisson_cdf(8,result.x[0]) )"
   ]
  },
  {
   "cell_type": "code",
   "execution_count": 118,
   "metadata": {},
   "outputs": [
    {
     "name": "stdout",
     "output_type": "stream",
     "text": [
      "      fun: 2.0260166498029975e-19\n",
      " hess_inv: array([[136.92676373]])\n",
      "      jac: array([1.51960643e-14])\n",
      "  message: 'Optimization terminated successfully.'\n",
      "     nfev: 63\n",
      "      nit: 4\n",
      "     njev: 21\n",
      "   status: 0\n",
      "  success: True\n",
      "        x: array([4.87558103])\n",
      "real prop: 0.939726\n",
      "my_prop: 0.939726\n"
     ]
    }
   ],
   "source": [
    "from scipy.stats import poisson\n",
    "from scipy.optimize import minimize \n",
    "\n",
    "def eq(l):\n",
    "    p = (365.-22.)/365.\n",
    "    tmp = poisson.cdf(8,l)\n",
    "    return (tmp-p)**2\n",
    " \n",
    "x0 = 1    \n",
    "result = minimize(eq,\n",
    "            x0,\n",
    "            tol=1E-10,\n",
    "            options={\n",
    "                'maxiter': 100,\n",
    "            })\n",
    "\n",
    "print(result)\n",
    "print(\"real prop: %f\" % ((365.-22.)/365.,))\n",
    "print(\"my_prop: %f\" % my_poisson_cdf(8,result.x[0]) )"
   ]
  },
  {
   "cell_type": "code",
   "execution_count": 114,
   "metadata": {},
   "outputs": [
    {
     "data": {
      "text/plain": [
       "4.875581034144443"
      ]
     },
     "execution_count": 114,
     "metadata": {},
     "output_type": "execute_result"
    }
   ],
   "source": [
    "result.x[0]"
   ]
  },
  {
   "cell_type": "markdown",
   "metadata": {},
   "source": [
    "## with possion cdf"
   ]
  },
  {
   "cell_type": "code",
   "execution_count": 76,
   "metadata": {},
   "outputs": [
    {
     "data": {
      "text/plain": [
       "0.9397260278508198"
      ]
     },
     "execution_count": 76,
     "metadata": {},
     "output_type": "execute_result"
    }
   ],
   "source": [
    "a = range(0,9)\n",
    "l = 4.87558103\n",
    "sum([poisson(i,l) for i in a])\n"
   ]
  },
  {
   "cell_type": "code",
   "execution_count": 77,
   "metadata": {},
   "outputs": [
    {
     "name": "stdout",
     "output_type": "stream",
     "text": [
      "0.9397260273972603\n"
     ]
    }
   ],
   "source": [
    "p = (365-22)/365.\n",
    "print(p)"
   ]
  },
  {
   "cell_type": "code",
   "execution_count": 94,
   "metadata": {},
   "outputs": [
    {
     "name": "stdout",
     "output_type": "stream",
     "text": [
      "0.9397260273972603\n",
      "0.3328196787507191\n",
      "0.9397309243663355\n",
      "4.875499999999288\n"
     ]
    }
   ],
   "source": [
    "from scipy.stats import poisson\n",
    "\n",
    "n_crit = 22\n",
    "n_year = 365\n",
    "n_9plus = 22/365\n",
    "lamb_guess = 10\n",
    "n_zero8 = 1-n_9plus\n",
    "print(n_zero8)\n",
    "print(poisson.cdf(8,lamb_guess))\n",
    "while poisson.cdf(8,lamb_guess) < n_zero8:\n",
    "    lamb_guess -= 0.0005\n",
    "\n",
    "print(poisson.cdf(8,lamb_guess))\n",
    "print(lamb_guess)"
   ]
  },
  {
   "cell_type": "code",
   "execution_count": 89,
   "metadata": {},
   "outputs": [
    {
     "data": {
      "image/png": "[encoded data removed]",
      "text/plain": [
       "<Figure size 432x288 with 1 Axes>"
      ]
     },
     "metadata": {
      "needs_background": "light"
     },
     "output_type": "display_data"
    }
   ],
   "source": [
    "import matplotlib.pyplot as plt\n",
    "\n",
    "x = range(1,100)\n",
    "lamb=10\n",
    "y_my = [my_poisson_cdf(i,lamb) for i in x]\n",
    "y_py = [poisson.cdf(i,lamb) for i in x]\n",
    "\n",
    "plt.plot(x,y_my)\n",
    "plt.plot(x,y_py)\n",
    "plt.show()"
   ]
  },
  {
   "cell_type": "code",
   "execution_count": null,
   "metadata": {},
   "outputs": [],
   "source": []
  }
 ],
 "metadata": {
  "kernelspec": {
   "display_name": "Python 3",
   "language": "python",
   "name": "python3"
  },
  "language_info": {
   "codemirror_mode": {
    "name": "ipython",
    "version": 3
   },
   "file_extension": ".py",
   "mimetype": "text/x-python",
   "name": "python",
   "nbconvert_exporter": "python",
   "pygments_lexer": "ipython3",
   "version": "3.7.1"
  }
 },
 "nbformat": 4,
 "nbformat_minor": 2
}
