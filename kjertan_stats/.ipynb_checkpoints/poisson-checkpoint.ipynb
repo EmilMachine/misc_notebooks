{
 "cells": [
  {
   "cell_type": "code",
   "execution_count": 63,
   "metadata": {},
   "outputs": [
    {
     "name": "stderr",
     "output_type": "stream",
     "text": [
      "/Users/emil/.pyenv/versions/3.7.1/lib/python3.7/site-packages/ipykernel_launcher.py:24: OptimizeWarning: Unknown solver options: maxfun\n"
     ]
    },
    {
     "data": {
      "text/plain": [
       "      fun: 4.002838895503222e-17\n",
       " hess_inv: array([[0.13693736]])\n",
       "      jac: array([3.02352561e-08])\n",
       "  message: 'Optimization terminated successfully.'\n",
       "     nfev: 48\n",
       "      nit: 4\n",
       "     njev: 16\n",
       "   status: 0\n",
       "  success: True\n",
       "        x: array([4.87558103])"
      ]
     },
     "execution_count": 63,
     "metadata": {},
     "output_type": "execute_result"
    }
   ],
   "source": [
    "\n",
    "import numpy as np\n",
    "import math\n",
    "from scipy.optimize import minimize \n",
    "\n",
    "def poisson(k,l):\n",
    "    return (l**k)*np.exp(-l)/math.factorial(k)\n",
    "\n",
    "\n",
    "def poisson(n,l):\n",
    "    a = range(0,n)\n",
    "    return sum([poisson(i,l) for i in a])\n",
    "\n",
    "\n",
    "def eq(l):\n",
    "    p = (365.-22.)/365.\n",
    "    a = range(0,9)\n",
    "    tmp = sum([poisson(i,l) for i in a])\n",
    "    return (tmp-p)**2*1000\n",
    " \n",
    "x0 = 1    \n",
    "result = minimize(eq,\n",
    "            x0,\n",
    "            options={\n",
    "                'maxiter': 100,\n",
    "                'maxfun': 500\n",
    "            })\n",
    "\n",
    "\n",
    "result"
   ]
  },
  {
   "cell_type": "code",
   "execution_count": 62,
   "metadata": {},
   "outputs": [
    {
     "data": {
      "text/plain": [
       "0.9397260278508198"
      ]
     },
     "execution_count": 62,
     "metadata": {},
     "output_type": "execute_result"
    }
   ],
   "source": [
    "a = range(0,9)\n",
    "l = 4.87558103\n",
    "sum([poisson(i,l) for i in a])\n"
   ]
  },
  {
   "cell_type": "code",
   "execution_count": 23,
   "metadata": {},
   "outputs": [
    {
     "name": "stdout",
     "output_type": "stream",
     "text": [
      "0.9397260273972603\n"
     ]
    }
   ],
   "source": [
    "p = (365-22)/365.\n",
    "print(p)"
   ]
  },
  {
   "cell_type": "code",
   "execution_count": 69,
   "metadata": {},
   "outputs": [
    {
     "name": "stdout",
     "output_type": "stream",
     "text": [
      "0.9397260273972603\n",
      "0.3328196787507191\n",
      "0.939761132955006\n"
     ]
    }
   ],
   "source": [
    "from scipy.stats import poisson\n",
    "\n",
    "n_crit = 22\n",
    "n_year = 365\n",
    "n_9plus = 22/365\n",
    "lamb_guess = 10\n",
    "n_zero8 = 1-n_9plus\n",
    "print(n_zero8)\n",
    "print(poisson.cdf(8,lamb_guess))\n",
    "while poisson.cdf(8,lamb_guess) < n_zero8:\n",
    "    lamb_guess -= 0.005\n",
    "\n",
    "print(poisson.cdf(8,lamb_guess))"
   ]
  },
  {
   "cell_type": "code",
   "execution_count": null,
   "metadata": {},
   "outputs": [],
   "source": []
  }
 ],
 "metadata": {
  "kernelspec": {
   "display_name": "Python 3",
   "language": "python",
   "name": "python3"
  },
  "language_info": {
   "codemirror_mode": {
    "name": "ipython",
    "version": 3
   },
   "file_extension": ".py",
   "mimetype": "text/x-python",
   "name": "python",
   "nbconvert_exporter": "python",
   "pygments_lexer": "ipython3",
   "version": "3.7.1"
  }
 },
 "nbformat": 4,
 "nbformat_minor": 2
}
